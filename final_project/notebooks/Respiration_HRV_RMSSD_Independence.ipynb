{
  "nbformat": 4,
  "nbformat_minor": 0,
  "metadata": {
    "colab": {
      "name": "Respiration HRV (RMSSD) Independence",
      "provenance": []
    },
    "kernelspec": {
      "name": "python3",
      "display_name": "Python 3"
    }
  },
  "cells": [
    {
      "cell_type": "code",
      "metadata": {
        "id": "lcksQ67A7002"
      },
      "source": [
        "import numpy as np\n",
        "import pandas as pd\n",
        "pd.set_option('display.float_format', lambda x: '%.7f' % x)\n",
        "# np.set_printoptions(suppress=True,\n",
        "  #  formatter={'float_kind':'{:f}'.format})\n",
        "# https://stackoverflow.com/questions/6811183/rolling-window-for-1d-arrays-in-numpy/6811241#6811241\n",
        "def rolling_window(a, window):\n",
        "    shape = a.shape[:-1] + (a.shape[-1] - window + 1, window)\n",
        "    strides = a.strides + (a.strides[-1],)\n",
        "    return np.lib.stride_tricks.as_strided(a, shape=shape, strides=strides)\n",
        "# https://stackoverflow.com/a/59974675/1114105\n",
        "def rolling_window2d(a, window_size):\n",
        "    shape = (a.shape[0] - window_size + 1, window_size) + a.shape[1:]\n",
        "    strides = (a.strides[0],) + a.strides\n",
        "    return np.lib.stride_tricks.as_strided(a, shape=shape, strides=strides)"
      ],
      "execution_count": null,
      "outputs": []
    },
    {
      "cell_type": "code",
      "metadata": {
        "id": "i7vqvTo2VTyM",
        "colab": {
          "base_uri": "https://localhost:8080/"
        },
        "outputId": "5c3627c8-77ce-4e51-b8b7-22e553afea53"
      },
      "source": [
        "import numpy as np\n",
        "np.set_printoptions(suppress=True)\n",
        "# OK So first get the files up here. Epoch RR and Epoch Respiration Rate\n",
        "rr = np.loadtxt(\"/content/drive/My Drive/BreathingSensing/record_206698/RR_interval_epoch.csv\",delimiter=\",\",skiprows=1)\n",
        "resp = np.loadtxt(\"/content/drive/My Drive/BreathingSensing/record_206698/outputData.csv\",delimiter=\",\",skiprows=1)\n",
        "rr = rr[:,:2]\n",
        "resp = resp[:,[0,4]]\n",
        "print(rr.shape)\n",
        "print(resp.shape)\n",
        "print(rr[0])"
      ],
      "execution_count": null,
      "outputs": [
        {
          "output_type": "stream",
          "text": [
            "(38086, 2)\n",
            "(28368, 2)\n",
            "[1.60053082e+09 0.00000000e+00]\n"
          ],
          "name": "stdout"
        }
      ]
    },
    {
      "cell_type": "code",
      "metadata": {
        "id": "g8i1jrVjYNmY",
        "colab": {
          "base_uri": "https://localhost:8080/"
        },
        "outputId": "798de5e3-a70d-4a4b-aaae-47159091b198"
      },
      "source": [
        "# Next truncate RR Interval and respiration rate\n",
        "# epoch times to integer (they have decimals originally) \n",
        "# and remove dupes for the same second for RR_Interval by averaging values\n",
        "import pandas as pd\n",
        "rr[:,0]= np.trunc(rr[:,0])\n",
        "rr_trunc = rr\n",
        "df_trunc =  pd.DataFrame({'time': rr_trunc[:, 0], 'rr': rr_trunc[:, 1]})\n",
        "df_trunc_dedup = df_trunc.groupby('time').mean().reset_index()\n",
        "rr_prep = df_trunc_dedup.to_numpy()\n",
        "resp[:,0] = np.trunc(resp[:,0])\n",
        "resp_prep = resp\n",
        "print(rr_prep.shape)"
      ],
      "execution_count": null,
      "outputs": [
        {
          "output_type": "stream",
          "text": [
            "(27604, 2)\n"
          ],
          "name": "stdout"
        }
      ]
    },
    {
      "cell_type": "code",
      "metadata": {
        "id": "bVWDVEAwb3NF",
        "colab": {
          "base_uri": "https://localhost:8080/"
        },
        "outputId": "2313c2b9-aa77-469b-e19e-4e5743f19fdb"
      },
      "source": [
        "# Now combine RR-Interval and Respiration rate for timestamps where we have both values\n",
        "# Get intersection\n",
        "intersecting_times, rr_ind, resp_ind  = np.intersect1d(rr_prep[:,0], resp_prep[:,0], return_indices=True)\n",
        "print(intersecting_times.shape)\n",
        "vitals = []\n",
        "for idx_rr, idx_resp in zip(rr_ind, resp_ind):\n",
        "  vitals.append([rr_prep[idx_rr,0], rr_prep[idx_rr,1], resp_prep[idx_resp,1]])\n",
        "vitals = np.array(vitals)\n",
        "print(vitals.shape)"
      ],
      "execution_count": null,
      "outputs": [
        {
          "output_type": "stream",
          "text": [
            "(27604,)\n",
            "(27604, 3)\n"
          ],
          "name": "stdout"
        }
      ]
    },
    {
      "cell_type": "code",
      "metadata": {
        "id": "RlwTLEneUE4x",
        "colab": {
          "base_uri": "https://localhost:8080/"
        },
        "outputId": "b110541a-714b-4772-da5b-7dd4ec3587b0"
      },
      "source": [
        "# Check that the intersecting times do match\n",
        "rr_prep[rr_ind].shape\n",
        "resp_prep[resp_ind].shape\n",
        "np.array_equal(rr_prep[rr_ind][:,0], resp_prep[resp_ind][:,0]) "
      ],
      "execution_count": null,
      "outputs": [
        {
          "output_type": "execute_result",
          "data": {
            "text/plain": [
              "True"
            ]
          },
          "metadata": {
            "tags": []
          },
          "execution_count": 206
        }
      ]
    },
    {
      "cell_type": "code",
      "metadata": {
        "id": "vNJnFJpJUpDc"
      },
      "source": [
        "# Is respiration data contiguous?\n",
        "np.all(np.diff(resp_prep[:,0]) == 1) # Yes it is\n",
        "import pandas as pd\n",
        "# Join by epoch\n",
        "rr_interval_df = pd.DataFrame(data=rr_prep, columns=[\"time\",\"rr_interval\"])\n",
        "respiration_rate_df = pd.DataFrame(data=resp_prep, columns=[\"time\",\"respiration_rate\"])\n",
        "merged_df = rr_interval_df.merge(respiration_rate_df,on='time',how='outer')\n",
        "merged_df = merged_df.sort_values(by=\"time\",inplace=False).reset_index(drop=True)\n",
        "merged_df['rr_interval'].replace(0, np.NaN, inplace=True)\n",
        "merged_df_last_non_nan = merged_df['rr_interval'].last_valid_index()\n",
        "merged_df_first_non_nan = merged_df['rr_interval'].first_valid_index()\n",
        "merged_df = merged_df[merged_df_first_non_nan:merged_df_last_non_nan+1]\n",
        "interpolated = merged_df['rr_interval'].interpolate(limit=5)\n",
        "merged_df['rr_interval'] = interpolated\n",
        "merged_df = merged_df.reset_index(drop=True)"
      ],
      "execution_count": null,
      "outputs": []
    },
    {
      "cell_type": "code",
      "metadata": {
        "id": "KGy9bXpKKutw",
        "colab": {
          "base_uri": "https://localhost:8080/"
        },
        "outputId": "cb210825-5703-443a-a707-9aa9c5fc18fb"
      },
      "source": [
        "is_NaN = merged_df.isnull()\n",
        "row_has_NaN = is_NaN.any(axis=1)\n",
        "rows_with_NaN = merged_df[row_has_NaN]\n",
        "print(len(rows_with_NaN))\n",
        "print(len(merged_df[merged_df['rr_interval'] == 0]))"
      ],
      "execution_count": null,
      "outputs": [
        {
          "output_type": "stream",
          "text": [
            "0\n",
            "0\n"
          ],
          "name": "stdout"
        }
      ]
    },
    {
      "cell_type": "code",
      "metadata": {
        "id": "EQCUS_C8tJqc",
        "colab": {
          "base_uri": "https://localhost:8080/",
          "height": 424
        },
        "outputId": "e79fc91b-f870-4421-92c4-b6a0ccc1d1b3"
      },
      "source": [
        "merged_df"
      ],
      "execution_count": null,
      "outputs": [
        {
          "output_type": "execute_result",
          "data": {
            "text/html": [
              "<div>\n",
              "<style scoped>\n",
              "    .dataframe tbody tr th:only-of-type {\n",
              "        vertical-align: middle;\n",
              "    }\n",
              "\n",
              "    .dataframe tbody tr th {\n",
              "        vertical-align: top;\n",
              "    }\n",
              "\n",
              "    .dataframe thead th {\n",
              "        text-align: right;\n",
              "    }\n",
              "</style>\n",
              "<table border=\"1\" class=\"dataframe\">\n",
              "  <thead>\n",
              "    <tr style=\"text-align: right;\">\n",
              "      <th></th>\n",
              "      <th>time</th>\n",
              "      <th>rr_interval</th>\n",
              "      <th>respiration_rate</th>\n",
              "    </tr>\n",
              "  </thead>\n",
              "  <tbody>\n",
              "    <tr>\n",
              "      <th>0</th>\n",
              "      <td>1600530821.0000000</td>\n",
              "      <td>0.5722656</td>\n",
              "      <td>10.0000000</td>\n",
              "    </tr>\n",
              "    <tr>\n",
              "      <th>1</th>\n",
              "      <td>1600530822.0000000</td>\n",
              "      <td>0.2578125</td>\n",
              "      <td>10.0000000</td>\n",
              "    </tr>\n",
              "    <tr>\n",
              "      <th>2</th>\n",
              "      <td>1600530823.0000000</td>\n",
              "      <td>1.2304688</td>\n",
              "      <td>14.0000000</td>\n",
              "    </tr>\n",
              "    <tr>\n",
              "      <th>3</th>\n",
              "      <td>1600530824.0000000</td>\n",
              "      <td>0.7089844</td>\n",
              "      <td>23.0000000</td>\n",
              "    </tr>\n",
              "    <tr>\n",
              "      <th>4</th>\n",
              "      <td>1600530825.0000000</td>\n",
              "      <td>0.7812500</td>\n",
              "      <td>30.0000000</td>\n",
              "    </tr>\n",
              "    <tr>\n",
              "      <th>...</th>\n",
              "      <td>...</td>\n",
              "      <td>...</td>\n",
              "      <td>...</td>\n",
              "    </tr>\n",
              "    <tr>\n",
              "      <th>28353</th>\n",
              "      <td>1600559174.0000000</td>\n",
              "      <td>0.2734375</td>\n",
              "      <td>12.0000000</td>\n",
              "    </tr>\n",
              "    <tr>\n",
              "      <th>28354</th>\n",
              "      <td>1600559175.0000000</td>\n",
              "      <td>0.9960938</td>\n",
              "      <td>12.0000000</td>\n",
              "    </tr>\n",
              "    <tr>\n",
              "      <th>28355</th>\n",
              "      <td>1600559176.0000000</td>\n",
              "      <td>0.8554688</td>\n",
              "      <td>11.0000000</td>\n",
              "    </tr>\n",
              "    <tr>\n",
              "      <th>28356</th>\n",
              "      <td>1600559177.0000000</td>\n",
              "      <td>1.0839844</td>\n",
              "      <td>10.0000000</td>\n",
              "    </tr>\n",
              "    <tr>\n",
              "      <th>28357</th>\n",
              "      <td>1600559178.0000000</td>\n",
              "      <td>1.3125000</td>\n",
              "      <td>10.0000000</td>\n",
              "    </tr>\n",
              "  </tbody>\n",
              "</table>\n",
              "<p>28358 rows × 3 columns</p>\n",
              "</div>"
            ],
            "text/plain": [
              "                    time  rr_interval  respiration_rate\n",
              "0     1600530821.0000000    0.5722656        10.0000000\n",
              "1     1600530822.0000000    0.2578125        10.0000000\n",
              "2     1600530823.0000000    1.2304688        14.0000000\n",
              "3     1600530824.0000000    0.7089844        23.0000000\n",
              "4     1600530825.0000000    0.7812500        30.0000000\n",
              "...                  ...          ...               ...\n",
              "28353 1600559174.0000000    0.2734375        12.0000000\n",
              "28354 1600559175.0000000    0.9960938        12.0000000\n",
              "28355 1600559176.0000000    0.8554688        11.0000000\n",
              "28356 1600559177.0000000    1.0839844        10.0000000\n",
              "28357 1600559178.0000000    1.3125000        10.0000000\n",
              "\n",
              "[28358 rows x 3 columns]"
            ]
          },
          "metadata": {
            "tags": []
          },
          "execution_count": 209
        }
      ]
    },
    {
      "cell_type": "code",
      "metadata": {
        "id": "fXj8ZAOhsubI",
        "colab": {
          "base_uri": "https://localhost:8080/"
        },
        "outputId": "60f2183b-ebff-4c97-952d-1937e1177042"
      },
      "source": [
        "breathing = merged_df['respiration_rate'].to_numpy()\n",
        "rr = merged_df['rr_interval'].to_numpy()\n",
        "rr.shape"
      ],
      "execution_count": null,
      "outputs": [
        {
          "output_type": "execute_result",
          "data": {
            "text/plain": [
              "(28358,)"
            ]
          },
          "metadata": {
            "tags": []
          },
          "execution_count": 210
        }
      ]
    },
    {
      "cell_type": "code",
      "metadata": {
        "id": "MPeMdPh-mhUj",
        "colab": {
          "base_uri": "https://localhost:8080/"
        },
        "outputId": "10ea8b9a-dc7d-4cdd-9f89-9f240a1fad47"
      },
      "source": [
        "# Then, Calculate HRV using 2 minute windows\n",
        "windows = rolling_window(rr, 120)\n",
        "print(windows.shape)\n",
        "hrvs = []\n",
        "for window in windows:\n",
        "  hrv = np.sqrt(np.mean(np.square(np.diff(window))))\n",
        "  hrvs.append(hrv)\n",
        "hrvs = np.array(hrvs)\n",
        "print(hrvs.shape)\n",
        "# print(hrv)\n"
      ],
      "execution_count": null,
      "outputs": [
        {
          "output_type": "stream",
          "text": [
            "(28239, 120)\n",
            "(28239,)\n"
          ],
          "name": "stdout"
        }
      ]
    },
    {
      "cell_type": "code",
      "metadata": {
        "id": "eic_XK8lrIwx",
        "colab": {
          "base_uri": "https://localhost:8080/"
        },
        "outputId": "09f02291-ca88-4274-9ed6-02512401e012"
      },
      "source": [
        "# Delete first two mins of resp data\n",
        "num_to_truncate = rr.shape[0] - hrvs.shape[0]\n",
        "\n",
        "resp_final = breathing[num_to_truncate:]\n",
        "hrv_resp = np.vstack((hrvs, resp_final)).T\n",
        "print(hrv_resp.shape)\n",
        "print(hrv_resp[0:10])"
      ],
      "execution_count": null,
      "outputs": [
        {
          "output_type": "stream",
          "text": [
            "(28239, 2)\n",
            "[[0.12370634 8.        ]\n",
            " [0.12030312 8.        ]\n",
            " [0.08090812 7.        ]\n",
            " [0.06529518 7.        ]\n",
            " [0.06502953 7.        ]\n",
            " [0.0650347  8.        ]\n",
            " [0.06396116 8.        ]\n",
            " [0.0621307  8.        ]\n",
            " [0.06786599 8.        ]\n",
            " [0.07012634 8.        ]]\n"
          ],
          "name": "stdout"
        }
      ]
    },
    {
      "cell_type": "code",
      "metadata": {
        "id": "9Gkd6b8BYoTb",
        "colab": {
          "base_uri": "https://localhost:8080/"
        },
        "outputId": "ed1e11b7-64f3-4197-eadd-e2e69d8a037a"
      },
      "source": [
        "#Quantile RMSSD\n",
        "high_anxiety_hrv_threshold = np.quantile(hrvs,.05)\n",
        "high_anxiety_hrv_threshold"
      ],
      "execution_count": null,
      "outputs": [
        {
          "output_type": "execute_result",
          "data": {
            "text/plain": [
              "0.03256780847456941"
            ]
          },
          "metadata": {
            "tags": []
          },
          "execution_count": 213
        }
      ]
    },
    {
      "cell_type": "code",
      "metadata": {
        "id": "c5voJhVBvmcq",
        "colab": {
          "base_uri": "https://localhost:8080/"
        },
        "outputId": "f7236bbc-c31e-4bf7-9eb4-4191c70c30b2"
      },
      "source": [
        "idx_high_anxiety = np.where(hrvs < high_anxiety_hrv_threshold)[0]\n",
        "idx_normal_anxiety = np.where(hrvs >= high_anxiety_hrv_threshold)[0]\n",
        "idx_normal_anxiety.shape[0] + idx_high_anxiety.shape[0]"
      ],
      "execution_count": null,
      "outputs": [
        {
          "output_type": "execute_result",
          "data": {
            "text/plain": [
              "28239"
            ]
          },
          "metadata": {
            "tags": []
          },
          "execution_count": 214
        }
      ]
    },
    {
      "cell_type": "code",
      "metadata": {
        "id": "rFuhzxNniHXv"
      },
      "source": [
        "# What does breathing look like?\n",
        "respiration_during_low_hrv = resp_final[idx_high_anxiety]\n",
        "respiration_during_normal_hrv = resp_final[idx_normal_anxiety]\n",
        "respiration_during_normal_hrv_samples = np.random.choice(respiration_during_normal_hrv, size=respiration_during_low_hrv.shape[0], replace=False)"
      ],
      "execution_count": null,
      "outputs": []
    },
    {
      "cell_type": "code",
      "metadata": {
        "id": "R9Qo6zjHIst4",
        "colab": {
          "base_uri": "https://localhost:8080/"
        },
        "outputId": "bf3bc6b2-1c7c-4b65-ee35-fbf5bd113d13"
      },
      "source": [
        "from scipy.stats import ttest_ind, ttest_ind_from_stats\n",
        "t, p = ttest_ind(respiration_during_low_hrv, respiration_during_normal_hrv_samples, equal_var=False)\n",
        "p"
      ],
      "execution_count": null,
      "outputs": [
        {
          "output_type": "execute_result",
          "data": {
            "text/plain": [
              "6.062690604613573e-12"
            ]
          },
          "metadata": {
            "tags": []
          },
          "execution_count": 216
        }
      ]
    },
    {
      "cell_type": "code",
      "metadata": {
        "id": "RlZDWSOKzsI2"
      },
      "source": [
        "X = np.concatenate([respiration_during_normal_hrv_samples, respiration_during_low_hrv])\n",
        "y = np.concatenate([np.zeros(respiration_during_normal_hrv_samples.shape[0]), np.ones(respiration_during_low_hrv.shape[0])])"
      ],
      "execution_count": null,
      "outputs": []
    },
    {
      "cell_type": "code",
      "metadata": {
        "id": "p47BDMqfZSWo"
      },
      "source": [
        "from sklearn.model_selection import train_test_split\n",
        "X_train, X_test, y_train, y_test = train_test_split(X, y, test_size=0.33, random_state=42)"
      ],
      "execution_count": null,
      "outputs": []
    },
    {
      "cell_type": "code",
      "metadata": {
        "id": "lKfBgMTTt3i3",
        "colab": {
          "base_uri": "https://localhost:8080/"
        },
        "outputId": "1e2743a9-8ca6-488e-dbc3-ce8a73e27125"
      },
      "source": [
        "from sklearn.pipeline import make_pipeline\n",
        "from sklearn.preprocessing import StandardScaler\n",
        "from sklearn.svm import SVC\n",
        "clf = make_pipeline(StandardScaler(), SVC(gamma='auto'))\n",
        "clf.fit(X_train.reshape(-1,1), y_train)\n",
        "clf.score(X_test.reshape(-1,1),y_test)"
      ],
      "execution_count": null,
      "outputs": [
        {
          "output_type": "execute_result",
          "data": {
            "text/plain": [
              "0.6051502145922747"
            ]
          },
          "metadata": {
            "tags": []
          },
          "execution_count": 277
        }
      ]
    },
    {
      "cell_type": "code",
      "metadata": {
        "id": "swuPyh5mu0Gv",
        "colab": {
          "base_uri": "https://localhost:8080/"
        },
        "outputId": "9c7d91db-fc5e-4f88-9ba2-8e1b895fcf1c"
      },
      "source": [
        "len(np.where(clf.predict(respiration_during_low_hrv.reshape(-1,1)) == 1)[0])\n"
      ],
      "execution_count": null,
      "outputs": [
        {
          "output_type": "execute_result",
          "data": {
            "text/plain": [
              "0"
            ]
          },
          "metadata": {
            "tags": []
          },
          "execution_count": 273
        }
      ]
    },
    {
      "cell_type": "code",
      "metadata": {
        "id": "g6IjohyTvtVx",
        "colab": {
          "base_uri": "https://localhost:8080/"
        },
        "outputId": "6e1988ec-7ce1-484f-c6e9-162ee4b45c0f"
      },
      "source": [
        "respiration_during_normal_hrv.shape[0]"
      ],
      "execution_count": null,
      "outputs": [
        {
          "output_type": "execute_result",
          "data": {
            "text/plain": [
              "26827"
            ]
          },
          "metadata": {
            "tags": []
          },
          "execution_count": 272
        }
      ]
    },
    {
      "cell_type": "code",
      "metadata": {
        "id": "1Z5a-j1H2GoR"
      },
      "source": [
        "# Calculate Slopes"
      ],
      "execution_count": null,
      "outputs": []
    },
    {
      "cell_type": "code",
      "metadata": {
        "id": "Um6Daa9x2Ms9"
      },
      "source": [
        "slopes_resp = np.diff(resp_final)\n",
        "# Look for size 50 windows with at least 8 increases and no decreases\n",
        "# Window breathing slopes\n",
        "breathing_slopes_windows = rolling_window(slopes_resp, 50)\n",
        "hrv_windows = rolling_window(hrvs, 51)\n",
        "breathing_windows = rolling_window(resp_final, 51)"
      ],
      "execution_count": null,
      "outputs": []
    },
    {
      "cell_type": "code",
      "metadata": {
        "id": "sV_NtBrC7eWF"
      },
      "source": [
        "# accepts a size 50 array\n",
        "def breathing_slope_pattern_exists(breathing_slope):\n",
        "  unique, counts = np.unique(breathing_slope, return_counts=True)\n",
        "  d = dict(zip(unique, counts))\n",
        "  return 1 in d and d[1] >=8 and (-1 not in d or -1 in d and d[-1] < 1)"
      ],
      "execution_count": null,
      "outputs": []
    },
    {
      "cell_type": "code",
      "metadata": {
        "id": "cYloIx198VQJ"
      },
      "source": [
        "breathing_windows_anx_pred = []\n",
        "for idx, slope in enumerate(breathing_slopes_windows):\n",
        "  isTarget = breathing_slope_pattern_exists(slope)\n",
        "  if isTarget:\n",
        "    breathing_windows_anx_pred.append(idx)"
      ],
      "execution_count": null,
      "outputs": []
    },
    {
      "cell_type": "code",
      "metadata": {
        "id": "WtjZEpJA3dgK"
      },
      "source": [
        "# https://stackoverflow.com/questions/7352684/how-to-find-the-groups-of-consecutive-elements-in-a-numpy-array\n",
        "def consecutive(data, stepsize=1):\n",
        "    return np.split(data, np.where(np.diff(data) != stepsize)[0]+1)"
      ],
      "execution_count": null,
      "outputs": []
    },
    {
      "cell_type": "code",
      "metadata": {
        "id": "Mg0Iz_Up4IMU"
      },
      "source": [
        "idx_high_anxiety_split = consecutive(idx_high_anxiety)"
      ],
      "execution_count": null,
      "outputs": []
    },
    {
      "cell_type": "code",
      "metadata": {
        "id": "Mw_fSnJz6OwD"
      },
      "source": [
        "# def count_bullseye_split(window_chunk, chunked_hrvs_high_anxiety):\n",
        "#   for window_idx in window_chunk:\n",
        "#     for hrv_idx in range(window_idx, window_idx + 52):\n",
        "#       for chunk in chunked_hrvs_high_anxiety:\n",
        "#         if hrv_idx in chunk:\n",
        "#           return True\n",
        "#   return False\n",
        "\n",
        "def count_bullseye_split(window_idx, chunked_hrvs_high_anxiety):\n",
        "  for hrv_idx in range(window_idx, window_idx + 52):\n",
        "    for chunk in chunked_hrvs_high_anxiety:\n",
        "      if hrv_idx in chunk:\n",
        "        return True\n",
        "  return False\n"
      ],
      "execution_count": null,
      "outputs": []
    },
    {
      "cell_type": "code",
      "metadata": {
        "id": "wdLMKZSkC468"
      },
      "source": [
        "prediction_chunks = consecutive(breathing_windows_anx_pred)\n"
      ],
      "execution_count": null,
      "outputs": []
    },
    {
      "cell_type": "code",
      "metadata": {
        "id": "FA9KHB7wDF5v",
        "colab": {
          "base_uri": "https://localhost:8080/"
        },
        "outputId": "c195c8a3-d7e3-4d88-fbfb-d75497dc09c6"
      },
      "source": [
        "len(prediction_chunks)"
      ],
      "execution_count": null,
      "outputs": [
        {
          "output_type": "execute_result",
          "data": {
            "text/plain": [
              "18"
            ]
          },
          "metadata": {
            "tags": []
          },
          "execution_count": 176
        }
      ]
    },
    {
      "cell_type": "code",
      "metadata": {
        "id": "RI2i0W9a8tuv",
        "colab": {
          "base_uri": "https://localhost:8080/"
        },
        "outputId": "309cede2-1191-4086-8e22-5dbb5c0e3abc"
      },
      "source": [
        "count_correct = 0\n",
        "count_incorrect = 0\n",
        "for candidate in breathing_windows_anx_pred:\n",
        "  if count_bullseye_split(candidate, idx_high_anxiety_split):\n",
        "    count_correct += 1\n",
        "    # print(f\"Index {candidate} correct\")\n",
        "  else:\n",
        "    count_incorrect += 1\n",
        "    # print(f\"Index {candidate} incorrect\")\n",
        "\n",
        "print(f\"Correct: {count_correct}, Incorrect:{count_incorrect}\")\n",
        "print(f\"TPR is {count_correct / (count_correct + count_incorrect)}\")"
      ],
      "execution_count": null,
      "outputs": [
        {
          "output_type": "stream",
          "text": [
            "Correct: 36, Incorrect:99\n",
            "TPR is 0.26666666666666666\n"
          ],
          "name": "stdout"
        }
      ]
    },
    {
      "cell_type": "code",
      "metadata": {
        "id": "8luL-1Py_mYO"
      },
      "source": [
        "def count_low_hrv_points(breathing_window_idx):\n",
        "  hrv_window = hrv_windows[breathing_window_idx] \n",
        "  return len(np.where(hrv_window < high_anxiety_hrv_threshold)[0]) \n",
        "  "
      ],
      "execution_count": null,
      "outputs": []
    },
    {
      "cell_type": "code",
      "metadata": {
        "id": "MQAljfEZAh1D"
      },
      "source": [
        "def calc_sensitivity_specificity(breathing_windows_anx_pred):\n",
        "  count_bulls = 0\n",
        "  count_fail = 0\n",
        "  for idx in breathing_windows_anx_pred:\n",
        "    low_hrv_pts = count_low_hrv_points(idx)\n",
        "    if low_hrv_pts >= 30:\n",
        "      count_bulls += 1\n",
        "    else:\n",
        "      count_fail += 1\n",
        "    # print(f\"idx: {idx}, points: {low_hrv_pts}\")\n",
        "  tpr = count_bulls / (count_fail + count_bulls)\n",
        "  true_positives = count_bulls\n",
        "  false_positives = count_fail\n",
        "\n",
        "  count_bulls = 0\n",
        "  count_fail = 0\n",
        "  for idx in range(hrv_windows.shape[0]):\n",
        "    low_hrv_pts = count_low_hrv_points(idx)\n",
        "    if low_hrv_pts >= 30:\n",
        "      count_bulls += 1\n",
        "    else:\n",
        "      count_fail += 1\n",
        "  positives = count_bulls\n",
        "  negatives = count_fail\n",
        "  sensitivity = true_positives / positives\n",
        "  specificity = (negatives - false_positives) / negatives\n",
        "\n",
        "  return tpr, sensitivity, specificity"
      ],
      "execution_count": null,
      "outputs": []
    },
    {
      "cell_type": "code",
      "metadata": {
        "id": "HBMOVloZFwKF",
        "colab": {
          "base_uri": "https://localhost:8080/"
        },
        "outputId": "99e6af46-2d2c-4e87-9c9f-0415cbd4cf92"
      },
      "source": [
        "calc_sensitivity_specificity(breathing_windows_anx_pred)"
      ],
      "execution_count": null,
      "outputs": [
        {
          "output_type": "execute_result",
          "data": {
            "text/plain": [
              "(0.2518518518518518, 0.0272654370489174, 0.9962512062950041)"
            ]
          },
          "metadata": {
            "tags": []
          },
          "execution_count": 180
        }
      ]
    },
    {
      "cell_type": "code",
      "metadata": {
        "id": "T90CAJa05MJW",
        "colab": {
          "base_uri": "https://localhost:8080/",
          "height": 633
        },
        "outputId": "3f02bf65-3a42-4efb-deb8-a27d9fbb86df"
      },
      "source": [
        "# https://matplotlib.org/gallery/api/two_scales.html\n",
        "import matplotlib.pyplot as plt\n",
        "fig, ax1 = plt.subplots(figsize=(20, 10))\n",
        "t = np.arange(1, 501, 1)\n",
        "color = 'tab:red'\n",
        "ax1.set_xlabel('time (s)')\n",
        "ax1.set_ylabel('HRV (RMSSD)', color=color)\n",
        "ax1.plot(t, hrv_resp[9400:9900,0], color=color)\n",
        "ax1.tick_params(axis='y', labelcolor=color)\n",
        "\n",
        "ax2 = ax1.twinx()  # instantiate a second axes that shares the same x-axis\n",
        "\n",
        "color = 'tab:blue'\n",
        "ax2.set_ylabel('Respiration Rate', color=color)  # we already handled the x-label with ax1\n",
        "ax2.plot(t, hrv_resp[9400:9900,1], color=color)\n",
        "ax2.tick_params(axis='y', labelcolor=color)\n",
        "\n",
        "fig.tight_layout()  # otherwise the right y-label is slightly clipped\n",
        "plt.show()"
      ],
      "execution_count": null,
      "outputs": [
        {
          "output_type": "display_data",
          "data": {
            "image/png": "[encoded data removed]",
            "text/plain": [
              "<Figure size 1440x720 with 2 Axes>"
            ]
          },
          "metadata": {
            "tags": [],
            "needs_background": "light"
          }
        }
      ]
    }
  ]
}
